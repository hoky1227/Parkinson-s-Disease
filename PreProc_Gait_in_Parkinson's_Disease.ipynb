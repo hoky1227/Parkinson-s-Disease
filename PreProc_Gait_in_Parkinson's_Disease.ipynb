{
  "nbformat": 4,
  "nbformat_minor": 0,
  "metadata": {
    "colab": {
      "name": "PreProc_Gait in Parkinson's Disease.ipynb",
      "provenance": [],
      "collapsed_sections": [],
      "authorship_tag": "ABX9TyO4LvqXeZl4ForWufr7nq7d",
      "include_colab_link": true
    },
    "kernelspec": {
      "name": "python3",
      "display_name": "Python 3"
    },
    "language_info": {
      "name": "python"
    }
  },
  "cells": [
    {
      "cell_type": "markdown",
      "metadata": {
        "id": "view-in-github",
        "colab_type": "text"
      },
      "source": [
        "<a href=\"https://colab.research.google.com/github/hoky1227/Parkinsons-Disease/blob/main/PreProc_Gait_in_Parkinson's_Disease.ipynb\" target=\"_parent\"><img src=\"https://colab.research.google.com/assets/colab-badge.svg\" alt=\"Open In Colab\"/></a>"
      ]
    },
    {
      "cell_type": "markdown",
      "source": [
        "# Preparation"
      ],
      "metadata": {
        "id": "HXRsDGrtZOqd"
      }
    },
    {
      "cell_type": "code",
      "execution_count": 1,
      "metadata": {
        "colab": {
          "base_uri": "https://localhost:8080/"
        },
        "id": "1HYctR4OYJ0j",
        "outputId": "a91ec08e-ceac-40be-c671-9f7be6a655fb"
      },
      "outputs": [
        {
          "output_type": "stream",
          "name": "stdout",
          "text": [
            "Drive already mounted at /content/drive; to attempt to forcibly remount, call drive.mount(\"/content/drive\", force_remount=True).\n"
          ]
        }
      ],
      "source": [
        "from google.colab import drive\n",
        "drive.mount('/content/drive')\n",
        "\n",
        "path = '/content/drive/MyDrive/medical'\n",
        "DG_path = path + '/datasets/dataset_fog_release/dataset/'\n",
        "GPD_path = path + '/datasets/gait-in-parkinsons-disease-1.0.0/'"
      ]
    },
    {
      "cell_type": "code",
      "source": [
        "import pandas as pd\n",
        "import matplotlib.pyplot as plt\n",
        "import numpy as np\n",
        "import scipy\n",
        "import easydict\n",
        "from glob import glob\n",
        "import random\n",
        "import torch\n",
        "from torch.utils.data import Dataset, DataLoader"
      ],
      "metadata": {
        "id": "gTPAXw6HYNw4"
      },
      "execution_count": 2,
      "outputs": []
    },
    {
      "cell_type": "code",
      "source": [
        "seed = 42\n",
        "\n",
        "np.random.seed(seed)\n",
        "random.seed(seed)"
      ],
      "metadata": {
        "id": "PS6onMx6eMQ0"
      },
      "execution_count": 3,
      "outputs": []
    },
    {
      "cell_type": "code",
      "source": [
        "GPD_fl = sorted(glob(GPD_path + '*_*.txt'))\n",
        "GPD_co_fl = sorted(glob(GPD_path + '*Co*_*.txt'))\n",
        "GPD_pt_fl = sorted(glob(GPD_path + '*Pt*_*.txt'))\n",
        "print(GPD_fl[:5])\n",
        "print(GPD_co_fl[:5])\n",
        "GPD_pt_fl[:5]"
      ],
      "metadata": {
        "colab": {
          "base_uri": "https://localhost:8080/"
        },
        "id": "LunV0vPXYPXM",
        "outputId": "bcaf4c94-778b-4d0d-f9f2-370c4887b82a"
      },
      "execution_count": 4,
      "outputs": [
        {
          "output_type": "stream",
          "name": "stdout",
          "text": [
            "['/content/drive/MyDrive/medical/datasets/gait-in-parkinsons-disease-1.0.0/GaCo01_01.txt', '/content/drive/MyDrive/medical/datasets/gait-in-parkinsons-disease-1.0.0/GaCo02_01.txt', '/content/drive/MyDrive/medical/datasets/gait-in-parkinsons-disease-1.0.0/GaCo02_02.txt', '/content/drive/MyDrive/medical/datasets/gait-in-parkinsons-disease-1.0.0/GaCo03_01.txt', '/content/drive/MyDrive/medical/datasets/gait-in-parkinsons-disease-1.0.0/GaCo03_02.txt']\n",
            "['/content/drive/MyDrive/medical/datasets/gait-in-parkinsons-disease-1.0.0/GaCo01_01.txt', '/content/drive/MyDrive/medical/datasets/gait-in-parkinsons-disease-1.0.0/GaCo02_01.txt', '/content/drive/MyDrive/medical/datasets/gait-in-parkinsons-disease-1.0.0/GaCo02_02.txt', '/content/drive/MyDrive/medical/datasets/gait-in-parkinsons-disease-1.0.0/GaCo03_01.txt', '/content/drive/MyDrive/medical/datasets/gait-in-parkinsons-disease-1.0.0/GaCo03_02.txt']\n"
          ]
        },
        {
          "output_type": "execute_result",
          "data": {
            "text/plain": [
              "['/content/drive/MyDrive/medical/datasets/gait-in-parkinsons-disease-1.0.0/GaPt03_01.txt',\n",
              " '/content/drive/MyDrive/medical/datasets/gait-in-parkinsons-disease-1.0.0/GaPt04_01.txt',\n",
              " '/content/drive/MyDrive/medical/datasets/gait-in-parkinsons-disease-1.0.0/GaPt05_01.txt',\n",
              " '/content/drive/MyDrive/medical/datasets/gait-in-parkinsons-disease-1.0.0/GaPt06_01.txt',\n",
              " '/content/drive/MyDrive/medical/datasets/gait-in-parkinsons-disease-1.0.0/GaPt07_01.txt']"
            ]
          },
          "metadata": {},
          "execution_count": 4
        }
      ]
    },
    {
      "cell_type": "markdown",
      "source": [
        "## Format"
      ],
      "metadata": {
        "id": "jqUWQGoNclyg"
      }
    },
    {
      "cell_type": "markdown",
      "source": [
        "Each line contains 19 columns:\n",
        "\n",
        "Column      1:   Time (in seconds)\n",
        "Columns   2-9:   Vertical ground reaction force (VGRF, in Newton) on each of 8\n",
        "\t  \t  sensors located under the left foot\n",
        "Columns 10-17:   VGRF on each of the 8 sensors located under the right foot\n",
        "Column     18:   Total force under the left foot\n",
        "Column     19:   Total force under the right foot."
      ],
      "metadata": {
        "id": "WYrFb9Y5b1_a"
      }
    },
    {
      "cell_type": "markdown",
      "source": [
        "Sensor       X      Y\n",
        "\n",
        "L1         -500   -800\n",
        "\n",
        "L2         -700   -400\n",
        "\n",
        "L3         -300   -400\n",
        "\n",
        "L4         -700      0\n",
        "\n",
        "L5         -300      0\n",
        "\n",
        "L6         -700    400\n",
        "\n",
        "L7         -300    400\n",
        "\n",
        "L8         -500    800\n",
        "\n",
        "\n",
        "\n",
        "R1          500   -800\n",
        "\n",
        "R2          700   -400\n",
        "\n",
        "R3          300   -400\n",
        "\n",
        "R4          700      0\n",
        "\n",
        "R5          300      0\n",
        "\n",
        "R6          700    400\n",
        "\n",
        "R7          300    400\n",
        "\n",
        "R8          500    800\n",
        "\n",
        "The X and Y numbers are in an arbitrary coordinate system reflecting\n",
        "the relative (arbitrarily scaled) positions of the sensors within each\n",
        "insole. During walking, the sensors inside each insole remain at the\n",
        "same relative position, but the two feet are no longer parallel to\n",
        "each other. Thus, this coordinate system enables a calculation of a\n",
        "proxy for the location of the center of pressure (COP) under each\n",
        "foot."
      ],
      "metadata": {
        "id": "lLgEfpTpb5zC"
      }
    },
    {
      "cell_type": "markdown",
      "source": [
        "Ga, Ju or Si – indicate the study from which the data originated:\n",
        "    \n",
        "    Ga - Galit Yogev et al (dual tasking in PD; Eur J Neuro, 2005)\n",
        "    \n",
        "    Ju – Hausdorff et al (RAS in PD; Eur J Neuro, 2007)\n",
        "    \n",
        "    Si - Silvi Frenkel-Toledo et al (Treadmill walking in PD; Mov Disorders,\n",
        "          2005)\n",
        "\n",
        "Co or Pt: Control subject or a PD Patient\n",
        "\n",
        "01: Subject number in the group"
      ],
      "metadata": {
        "id": "JcYhx6iTcSqO"
      }
    },
    {
      "cell_type": "markdown",
      "source": [
        "The sampling rate was 100 Hz."
      ],
      "metadata": {
        "id": "K2gixLcwchRO"
      }
    },
    {
      "cell_type": "markdown",
      "source": [
        "## Codes"
      ],
      "metadata": {
        "id": "Jx2-WutIcqF6"
      }
    },
    {
      "cell_type": "code",
      "source": [
        "# COM? COP? COF?\n",
        "L_x = np.array([-500, -700, -300, -700, -300, -700, -300, -500])\n",
        "L_y = np.array([-800, -400, -400, 0, 0, 400, 400, 800])\n",
        "R_x = np.array([500, 700, 300, 700, 300, 700, 300, 500])\n",
        "R_y = np.array([-800, -400, -400, 0, 0, 400, 400, 800])"
      ],
      "metadata": {
        "id": "rUWYVAuOE9a3"
      },
      "execution_count": 5,
      "outputs": []
    },
    {
      "cell_type": "code",
      "source": [
        "print(len(GPD_co_fl))\n",
        "print(len(GPD_pt_fl))\n",
        "len(GPD_fl)"
      ],
      "metadata": {
        "colab": {
          "base_uri": "https://localhost:8080/"
        },
        "id": "YXgbkES_ZJWl",
        "outputId": "f5435ab8-aa02-4e88-d7b5-a0da44367908"
      },
      "execution_count": 6,
      "outputs": [
        {
          "output_type": "stream",
          "name": "stdout",
          "text": [
            "92\n",
            "214\n"
          ]
        },
        {
          "output_type": "execute_result",
          "data": {
            "text/plain": [
              "306"
            ]
          },
          "metadata": {},
          "execution_count": 6
        }
      ]
    },
    {
      "cell_type": "code",
      "source": [
        "# 60 : 20 : 20\n",
        "\n",
        "train_len = round(0.6 * len(GPD_fl))\n",
        "val_len = round(0.2 * len(GPD_fl))\n",
        "test_len = len(GPD_fl) - train_len - val_len\n",
        "\n",
        "print(train_len, val_len, test_len)\n",
        "\n",
        "print(GPD_fl[:5])\n",
        "random.shuffle(GPD_fl)\n",
        "print(GPD_fl[:5])"
      ],
      "metadata": {
        "colab": {
          "base_uri": "https://localhost:8080/"
        },
        "id": "GWE71EJ8dCUk",
        "outputId": "5fe2abf9-8a80-49d0-a835-8fb3c3861c51"
      },
      "execution_count": 7,
      "outputs": [
        {
          "output_type": "stream",
          "name": "stdout",
          "text": [
            "184 61 61\n",
            "['/content/drive/MyDrive/medical/datasets/gait-in-parkinsons-disease-1.0.0/GaCo01_01.txt', '/content/drive/MyDrive/medical/datasets/gait-in-parkinsons-disease-1.0.0/GaCo02_01.txt', '/content/drive/MyDrive/medical/datasets/gait-in-parkinsons-disease-1.0.0/GaCo02_02.txt', '/content/drive/MyDrive/medical/datasets/gait-in-parkinsons-disease-1.0.0/GaCo03_01.txt', '/content/drive/MyDrive/medical/datasets/gait-in-parkinsons-disease-1.0.0/GaCo03_02.txt']\n",
            "['/content/drive/MyDrive/medical/datasets/gait-in-parkinsons-disease-1.0.0/GaPt21_01.txt', '/content/drive/MyDrive/medical/datasets/gait-in-parkinsons-disease-1.0.0/GaPt20_02.txt', '/content/drive/MyDrive/medical/datasets/gait-in-parkinsons-disease-1.0.0/JuPt15_07.txt', '/content/drive/MyDrive/medical/datasets/gait-in-parkinsons-disease-1.0.0/GaCo11_01.txt', '/content/drive/MyDrive/medical/datasets/gait-in-parkinsons-disease-1.0.0/SiPt02_01.txt']\n"
          ]
        }
      ]
    },
    {
      "cell_type": "code",
      "source": [
        "col = ['Time', 'L1', 'L2', 'L3', 'L4', 'L5', 'L6',\n",
        "       'L7', 'L8', 'R1', 'R2', 'R3', 'R4', 'R5', 'R6', 'R7', 'R8', 'L_tot', 'R_tot']\n",
        "\n",
        "# df_co = pd.read_csv(GPD_co_fl[0], sep='\\t', names=col)\n",
        "# df_pt = pd.read_csv(GPD_pt_fl[0], sep='\\t', names=col)\n",
        "\n",
        "# for f in GPD_co_fl[1:]:\n",
        "#     df_co_ = pd.read_csv(f, sep='\\t', names=col)\n",
        "#     df_co = pd.concat([df_co, df_co_], ignore_index=True)\n",
        "\n",
        "# for f in GPD_pt_fl[1:]:\n",
        "#     df_pt_ = pd.read_csv(f, sep='\\t', names=col)\n",
        "#     df_pt = pd.concat([df_pt, df_pt_], ignore_index=True)\n",
        "\n",
        "# display(df_co.head())\n",
        "# print(df_co.shape)\n",
        "# display(df_pt.head())\n",
        "# print(df_pt.shape)\n",
        "\n",
        "# ------------------------------------------------------------------------------\n",
        "\n",
        "# for i, f in enumerate(GPD_co_fl):\n",
        "#     globals()[f'df_co_{i}'] = pd.read_csv(f, sep='\\t', names=col)\n",
        "\n",
        "\n",
        "# for i, f in enumerate(GPD_pt_fl):\n",
        "#     globals()[f'df_pt_{i}'] = pd.read_csv(f, sep='\\t', names=col)\n",
        "\n",
        "# df_co = pd.concat([globals()[f'df_co_{i}'] for i in range(len(GPD_co_fl))], ignore_index=True)\n",
        "# df_pt = pd.concat([globals()[f'df_pt_{i}'] for i in range(len(GPD_pt_fl))], ignore_index=True)\n",
        "\n",
        "# display(df_co.head())\n",
        "# print(df_co.shape)\n",
        "# display(df_pt.head())\n",
        "# print(df_pt.shape)\n",
        "\n",
        "# ------------------------------------------------------------------------------\n",
        "\n",
        "# for i, f in enumerate(GPD_fl[:train_len]):\n",
        "#     if 'Co' in f:\n",
        "#         globals()[f'train_co_{i}'] = pd.read_csv(f, sep='\\t', names=col)\n",
        "#     else:\n",
        "#         globals()[f'train_pt_{i}'] = pd.read_csv(f, sep='\\t', names=col)        \n",
        "\n",
        "# for i, f in enumerate(GPD_fl[train_len:train_len + val_len]):\n",
        "#     if 'Co' in f:\n",
        "#         globals()[f'val_co_{i}'] = pd.read_csv(f, sep='\\t', names=col)\n",
        "#     else:\n",
        "#         globals()[f'val_pt_{i}'] = pd.read_csv(f, sep='\\t', names=col) \n",
        "\n",
        "# for i, f in enumerate(GPD_fl[train_len + val_len:]):\n",
        "#     if 'Co' in f:\n",
        "#         globals()[f'test_co_{i}'] = pd.read_csv(f, sep='\\t', names=col)\n",
        "#     else:\n",
        "#         globals()[f'test_pt_{i}'] = pd.read_csv(f, sep='\\t', names=col)\n",
        "\n",
        "# ------------------------------------------------------------------------------\n",
        "\n",
        "for i, f in enumerate(GPD_fl[:train_len]):\n",
        "    globals()[f'train_{i}'] = pd.read_csv(f, sep='\\t', names=col)\n",
        "    if 'Co' in f:\n",
        "        globals()[f'train_{i}']['label'] = [0] * len(globals()[f'train_{i}'])\n",
        "    else:\n",
        "        globals()[f'train_{i}']['label'] = [1] * len(globals()[f'train_{i}'])\n",
        "\n",
        "for i, f in enumerate(GPD_fl[train_len:train_len + val_len]):\n",
        "    globals()[f'val_{i}'] = pd.read_csv(f, sep='\\t', names=col)\n",
        "    if 'Co' in f:\n",
        "        globals()[f'val_{i}']['label'] = [0] * len(globals()[f'val_{i}'])\n",
        "    else:\n",
        "        globals()[f'val_{i}']['label'] = [1] * len(globals()[f'val_{i}'])\n",
        "\n",
        "for i, f in enumerate(GPD_fl[train_len + val_len:]):\n",
        "    globals()[f'test_{i}'] = pd.read_csv(f, sep='\\t', names=col)\n",
        "    if 'Co' in f:\n",
        "        globals()[f'test_{i}']['label'] = [0] * len(globals()[f'test_{i}'])\n",
        "    else:\n",
        "        globals()[f'test_{i}']['label'] = [1] * len(globals()[f'test_{i}'])"
      ],
      "metadata": {
        "id": "0VHRlIQjcfCs"
      },
      "execution_count": 8,
      "outputs": []
    },
    {
      "cell_type": "code",
      "source": [
        "config = {\n",
        "    'max_len' : 128,\n",
        "    'epochs' : 100,\n",
        "    'kernel' : 3,\n",
        "    'lr' : 1e-3\n",
        "}"
      ],
      "metadata": {
        "id": "VMf9NblahXyc"
      },
      "execution_count": 9,
      "outputs": []
    },
    {
      "cell_type": "code",
      "source": [
        "def preproc_window(df, window, drop_time=True):\n",
        "    _df = df.copy()\n",
        "\n",
        "    if drop_time:\n",
        "        _df.pop('Time')\n",
        "    _df.pop('label')\n",
        "\n",
        "    for i in range(1, window - (len(_df) % window)):\n",
        "        _df.loc[len(_df) + i] = [0] * len(_df.columns)\n",
        "    \n",
        "    assert len(_df) % window != 0\n",
        "\n",
        "    df_new = pd.DataFrame()\n",
        "\n",
        "    _df['index'] = list(range(len(_df)))\n",
        "    _df['group'] = _df.apply(lambda x: x['index'] // window, axis=1)\n",
        "\n",
        "    for col in _df.columns[:-2]:\n",
        "        df_new[str(col)] = _df.groupby(by='group')[str(col)].apply(list)\n",
        "\n",
        "    del _df\n",
        "\n",
        "    df_new['label'] = [df['label'][0]] * len(df_new)\n",
        "\n",
        "    df_new = df_new.reset_index()\n",
        "    df_new.pop('group')\n",
        "\n",
        "    return df_new"
      ],
      "metadata": {
        "id": "_uL4UE5f6veA"
      },
      "execution_count": 10,
      "outputs": []
    },
    {
      "cell_type": "code",
      "source": [
        "train = pd.concat([preproc_window(globals()[f'train_{i}'], config['max_len']) for i in range(train_len)], ignore_index=True)\n",
        "val = pd.concat([preproc_window(globals()[f'val_{i}'], config['max_len']) for i in range(val_len)], ignore_index=True)\n",
        "test = pd.concat([preproc_window(globals()[f'test_{i}'], config['max_len']) for i in range(test_len)], ignore_index=True)"
      ],
      "metadata": {
        "id": "36tBTTkrHAdj"
      },
      "execution_count": 11,
      "outputs": []
    },
    {
      "cell_type": "code",
      "source": [
        "print(train.shape)\n",
        "print(val.shape)\n",
        "print(test.shape)"
      ],
      "metadata": {
        "colab": {
          "base_uri": "https://localhost:8080/"
        },
        "id": "0q8hFqZN9tem",
        "outputId": "f239a7c8-e0c9-4755-a074-c29c5d8893e5"
      },
      "execution_count": 15,
      "outputs": [
        {
          "output_type": "stream",
          "name": "stdout",
          "text": [
            "(15521, 19)\n",
            "(5219, 19)\n",
            "(5296, 19)\n"
          ]
        }
      ]
    },
    {
      "cell_type": "code",
      "source": [
        "train.to_csv(GPD_path + 'train_128.csv', index=False)\n",
        "val.to_csv(GPD_path + 'val_128.csv', index=False)\n",
        "test.to_csv(GPD_path + 'test_128.csv', index=False)"
      ],
      "metadata": {
        "id": "zpZvwLeuHE3z"
      },
      "execution_count": 16,
      "outputs": []
    },
    {
      "cell_type": "code",
      "source": [
        ""
      ],
      "metadata": {
        "id": "MX-eOa95JpvJ"
      },
      "execution_count": null,
      "outputs": []
    }
  ]
}